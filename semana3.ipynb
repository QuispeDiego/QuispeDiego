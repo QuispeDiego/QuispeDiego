{
  "nbformat": 4,
  "nbformat_minor": 0,
  "metadata": {
    "colab": {
      "name": "semana3.ipynb",
      "provenance": [],
      "collapsed_sections": [],
      "authorship_tag": "ABX9TyPSNaFcTKIKvEXY0ca+tHRd"
    },
    "kernelspec": {
      "name": "python3",
      "display_name": "Python 3"
    },
    "language_info": {
      "name": "python"
    }
  },
  "cells": [
    {
      "cell_type": "code",
      "metadata": {
        "id": "IlnXVcZDsN3Z"
      },
      "source": [
        ""
      ],
      "execution_count": null,
      "outputs": []
    },
    {
      "cell_type": "markdown",
      "metadata": {
        "id": "xpI3KjuIseQt"
      },
      "source": [
        ""
      ]
    },
    {
      "cell_type": "markdown",
      "metadata": {
        "id": "zCDdJAQQsfPY"
      },
      "source": [
        "#Temario\n",
        "1. Archivos\n",
        "1. Lambdas"
      ]
    },
    {
      "cell_type": "markdown",
      "metadata": {
        "id": "U3Haw-XvsxNC"
      },
      "source": [
        "##Archivos"
      ]
    },
    {
      "cell_type": "code",
      "metadata": {
        "colab": {
          "base_uri": "https://localhost:8080/"
        },
        "id": "MCnbIE6Zs07E",
        "outputId": "9fc2f997-a888-4418-f3e0-48c1e6b616f8"
      },
      "source": [
        "%%writefile archivos.cpp\n",
        "#include<iostream> //archivos en buffer\n",
        "#include<fstream> //archivos en disco\n",
        "#include<sstream> //archivos en memoria\n",
        "\n",
        "#include<string>\n",
        "using std::fstream;\n",
        "using std::string;\n",
        "using std::cout;\n",
        "using std::cin;\n",
        "using namespace std;\n",
        "\n",
        "struct Celular{};\n",
        "\n",
        "void funciones(){\n",
        "    string s;\n",
        "    //cout<<\"hola mundo\";\n",
        "    //cin>>s;\n",
        "    ofstream archivoE(\"archivo1.txt\",std::ios::out);\n",
        "    archivoE<<\"hola mundo\";\n",
        "    archivoE.close();\n",
        "    //lectura\n",
        "    ifstream archivoL(\"archivo1.txt\",std::ios::in);\n",
        "    getline(archivoL,s);\n",
        "    cout<<s;\n",
        "    archivoL.close();\n",
        "}\n",
        "\n",
        "int main(){\n",
        "    \n",
        "\n",
        "}"
      ],
      "execution_count": null,
      "outputs": [
        {
          "output_type": "stream",
          "text": [
            "Overwriting archivos.cpp\n"
          ],
          "name": "stdout"
        }
      ]
    },
    {
      "cell_type": "code",
      "metadata": {
        "colab": {
          "base_uri": "https://localhost:8080/"
        },
        "id": "8hCY7-nHvT4b",
        "outputId": "e1bdf67a-8ee1-4837-f77f-27ade9cda81a"
      },
      "source": [
        "!g++ archivos.cpp &&  ./a.out"
      ],
      "execution_count": null,
      "outputs": [
        {
          "output_type": "stream",
          "text": [
            "hola mundo"
          ],
          "name": "stdout"
        }
      ]
    },
    {
      "cell_type": "code",
      "metadata": {
        "colab": {
          "base_uri": "https://localhost:8080/"
        },
        "id": "a6DIxMkVy62q",
        "outputId": "f64f6214-e39a-4193-fb59-6dd3ad86e155"
      },
      "source": [
        "%%writefile archivos.upc\n",
        "Alan | Flores | 19\n",
        "Miguel | Rodriguez | 20\n",
        "Rosa | Cobenias | 35\n",
        "Juan | Cabrera | 50\n",
        "Monica | Rodriguez | 19"
      ],
      "execution_count": null,
      "outputs": [
        {
          "output_type": "stream",
          "text": [
            "Overwriting archivos.upc\n"
          ],
          "name": "stdout"
        }
      ]
    },
    {
      "cell_type": "code",
      "metadata": {
        "colab": {
          "base_uri": "https://localhost:8080/"
        },
        "id": "gZps3TGPzv8P",
        "outputId": "1baddde2-575a-4e5e-dd8f-43350d9bcc44"
      },
      "source": [
        "%%writefile demo.cpp\n",
        "#include<iostream> //archivos en buffer\n",
        "#include<fstream> //archivos en disco\n",
        "#include<sstream> //archivos en memoria\n",
        "#include<string>\n",
        "using namespace std;\n",
        "//lectura\n",
        "struct estudiante {\n",
        "    string nombre;\n",
        "    string apellido;\n",
        "    unsigned short edad;\n",
        "\n",
        "};\n",
        "void lecturaV1(){\n",
        "    string cadena;\n",
        "    string nombre;\n",
        "    string apellido;\n",
        "    string aux;\n",
        "    unsigned short edad;\n",
        "    \n",
        "    ifstream arch(\"archivos.upc\");\n",
        "    while(getline(arch,cadena)){\n",
        "        stringstream archMem(cadena); //convertir string a cadena\n",
        "        getline(archMem,nombre,'|');\n",
        "        getline(archMem,apellido,'|');\n",
        "        getline(archMem,aux,'|');\n",
        "        edad = stoi(aux);//string to integer\n",
        "          cout<<apellido<<\" \"<<nombre<<\" \"<<edad<<endl;\n",
        "          \n",
        "    }\n",
        "}\n",
        "void lecturaV2(){\n",
        "    string cadena;\n",
        "    string nombre;\n",
        "    string apellido;\n",
        "    string aux;\n",
        "    unsigned short edad;\n",
        "    \n",
        "    ifstream arch(\"archivos.upc\");\n",
        "    while(arch>>nombre>>aux>>apellido>>aux>>edad){\n",
        "          cout<<apellido<<\" \"<<nombre<<\" \"<<edad<<endl;\n",
        "          \n",
        "    }\n",
        "}\n",
        "\n",
        "int main(){\n",
        "    lecturaV2();\n",
        "\n",
        "}"
      ],
      "execution_count": null,
      "outputs": [
        {
          "output_type": "stream",
          "text": [
            "Overwriting demo.cpp\n"
          ],
          "name": "stdout"
        }
      ]
    },
    {
      "cell_type": "code",
      "metadata": {
        "colab": {
          "base_uri": "https://localhost:8080/"
        },
        "id": "g6a1y6OI3va2",
        "outputId": "c8ad549f-5abd-4fea-bf26-f6f520465a6b"
      },
      "source": [
        "!g++ demo.cpp &&  ./a.out"
      ],
      "execution_count": null,
      "outputs": [
        {
          "output_type": "stream",
          "text": [
            "Flores Alan 19\n",
            "Rodriguez Miguel 20\n",
            "Cobenias Rosa 35\n",
            "Cabrera Juan 50\n",
            "Rodriguez Monica 19\n"
          ],
          "name": "stdout"
        }
      ]
    },
    {
      "cell_type": "markdown",
      "metadata": {
        "id": "Dx4pgQZv6qjG"
      },
      "source": [
        "##Lambdas\n",
        "````\n",
        "[]()->{}\n",
        "Donde:\n",
        "[] : Variables globales\n",
        "() :parametros\n",
        "-> :tipo de retorno(opcional)\n",
        "{} :cuerpo de la funcion\n"
      ]
    },
    {
      "cell_type": "code",
      "metadata": {
        "colab": {
          "base_uri": "https://localhost:8080/"
        },
        "id": "evQ1ogAc7NQ2",
        "outputId": "2d26c6e6-2271-49f1-835a-60063f7d251b"
      },
      "source": [
        "%%writefile lambda.cpp\n",
        "\n",
        "#include <functional>\n",
        "\n",
        "#include <iostream>\n",
        "\n",
        "#include <vector>\n",
        "\n",
        "using namespace std;\n",
        "\n",
        "short resta(short a, short b){\n",
        "\n",
        "    return a-b;\n",
        "\n",
        "}\n",
        "\n",
        "void operar(function<short(short, short)>  variableFuncion){\n",
        "\n",
        "    short a=25,b=5;\n",
        "\n",
        "    cout<<variableFuncion(a,b)<<endl;\n",
        "\n",
        "}\n",
        "\n",
        "void ejemplo1(){\n",
        "\n",
        "    auto suma=[](short a, short b)->short{return a+b;};  \n",
        "\n",
        "    auto multiplica=[](short a, short b)->short{return a*b;};  \n",
        "\n",
        "    auto divide=[](short a, short b)->short{return a/b;};  \n",
        "\n",
        "    operar(suma);\n",
        "\n",
        "    operar(resta);\n",
        "\n",
        "    operar(multiplica);\n",
        "\n",
        "    operar(divide);\n",
        "\n",
        "}\n",
        "\n",
        "void procesar(function<void(vector<int>)> f){\n",
        "\n",
        "    vector<int> enteros;\n",
        "\n",
        "    for(size_t i=0;i<50;++i){\n",
        "\n",
        "        enteros.push_back(i);\n",
        "\n",
        "    }\n",
        "\n",
        "    f(enteros);\n",
        "\n",
        "}\n",
        "\n",
        "int main(){\n",
        "\n",
        "  auto mostrarTodos= [](vector<int> v)->void{\n",
        "\n",
        "                                          for(size_t i=0;i<v.size();++i)\n",
        "\n",
        "                                            cout<<v[i]<<\" \";\n",
        "\n",
        "                                          };\n",
        "\n",
        "  auto mostrarPares= [](vector<int> v)->void{\n",
        "\n",
        "                                          for(size_t i=0;i<v.size();++i)\n",
        "\n",
        "                                            if(v[i]%2==0)\n",
        "\n",
        "                                              cout<<v[i]<<\" \";\n",
        "\n",
        "                                          };\n",
        "\n",
        "  procesar(mostrarTodos);\n",
        "\n",
        "  cout<<endl;\n",
        "\n",
        "  procesar(mostrarPares);\n",
        "\n",
        "}"
      ],
      "execution_count": null,
      "outputs": [
        {
          "output_type": "stream",
          "text": [
            "Overwriting lambda.cpp\n"
          ],
          "name": "stdout"
        }
      ]
    },
    {
      "cell_type": "code",
      "metadata": {
        "colab": {
          "base_uri": "https://localhost:8080/"
        },
        "id": "lbmSlDJx96Or",
        "outputId": "17f5db83-fff9-4d4f-e7d8-8f45c1d9ef7c"
      },
      "source": [
        "!g++ lambda.cpp &&  ./a.out"
      ],
      "execution_count": null,
      "outputs": [
        {
          "output_type": "stream",
          "text": [
            "0 1 2 3 4 5 6 7 8 9 10 11 12 13 14 15 16 17 18 19 20 21 22 23 24 25 26 27 28 29 30 31 32 33 34 35 36 37 38 39 40 41 42 43 44 45 46 47 48 49 \n",
            "0 2 4 6 8 10 12 14 16 18 20 22 24 26 28 30 32 34 36 38 40 42 44 46 48 "
          ],
          "name": "stdout"
        }
      ]
    },
    {
      "cell_type": "markdown",
      "metadata": {
        "id": "IHZXGXLp6oKK"
      },
      "source": [
        ""
      ]
    },
    {
      "cell_type": "markdown",
      "metadata": {
        "id": "gX7l0ILCss9u"
      },
      "source": [
        ""
      ]
    }
  ]
}